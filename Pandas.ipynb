{
  "nbformat": 4,
  "nbformat_minor": 0,
  "metadata": {
    "colab": {
      "name": "Untitled3.ipynb",
      "provenance": [],
      "collapsed_sections": [
        "NhaVPhbE_3vt"
      ]
    },
    "kernelspec": {
      "name": "python3",
      "display_name": "Python 3"
    }
  },
  "cells": [
    {
      "cell_type": "markdown",
      "metadata": {
        "id": "pqya55-c5jnQ",
        "colab_type": "text"
      },
      "source": [
        "# Pandas\n",
        "\n",
        "Pandas, Python için veri yapıları ve veri analizinde kullanım kolaylığı sağlayan Numpy üzerine inşa edilmiş bir kütüphanedir.\n"
      ]
    },
    {
      "cell_type": "code",
      "metadata": {
        "id": "M3zXlP3d60se",
        "colab_type": "code",
        "colab": {}
      },
      "source": [
        "import pandas as pd"
      ],
      "execution_count": 0,
      "outputs": []
    },
    {
      "cell_type": "markdown",
      "metadata": {
        "id": "qZre7l5O7BAV",
        "colab_type": "text"
      },
      "source": [
        "## Pandas Data Structres\n"
      ]
    },
    {
      "cell_type": "markdown",
      "metadata": {
        "id": "3VrgQjvG_wOB",
        "colab_type": "text"
      },
      "source": [
        "### Seriler\n",
        "Herhangi bir veri tipini tutabilen tek boyutlu etiketli dizilerdir."
      ]
    },
    {
      "cell_type": "code",
      "metadata": {
        "id": "Lxc7wIF_7p4Z",
        "colab_type": "code",
        "colab": {}
      },
      "source": [
        "s1 = pd.Series( ['A','Y','S','E'], index = [1,2,3,4])\n",
        "s2 = pd.Series( ['N','U','R'], index = [5,6,7])\n",
        "s3 = pd.Series( ['E','R','D','E', 'M'], index = [8,9,10,11,12])\n",
        "print(s1)\n",
        "print(s2)\n",
        "print(s3)"
      ],
      "execution_count": 0,
      "outputs": []
    },
    {
      "cell_type": "markdown",
      "metadata": {
        "id": "4pY_kf4U9I0I",
        "colab_type": "text"
      },
      "source": [
        "### DataFrame\n",
        "Farklı türlerde veriler içerebilen sütunlara sahip 2 boyutlu etiketli veri yapılarıdır."
      ]
    },
    {
      "cell_type": "code",
      "metadata": {
        "id": "A_2I25Do9oTL",
        "colab_type": "code",
        "colab": {}
      },
      "source": [
        "data = { 'Ulke': ['Belcika', 'Hindistan', 'Brezilya'],\n",
        "        'Baskent': ['Bruksel', 'Yeni Delhi', 'Brasilia'],\n",
        "        'Nufus': [11190846,1303171035,207847528]}\n",
        "\n",
        "df = pd.DataFrame(data, columns= ['Ulke', 'Baskent', 'Nufus'])\n",
        "\n",
        "print(df)"
      ],
      "execution_count": 0,
      "outputs": []
    },
    {
      "cell_type": "markdown",
      "metadata": {
        "id": "7bzMOcjdO9Gy",
        "colab_type": "text"
      },
      "source": [
        "### Dataframeleri birleştirme"
      ]
    },
    {
      "cell_type": "code",
      "metadata": {
        "id": "NqOKZYvtPuMs",
        "colab_type": "code",
        "colab": {}
      },
      "source": [
        "data1 = { 'Sutun1': [1,2,3],\n",
        "         'Sutun2': [4,5,6]}\n",
        "data2 = { 'Sutun3': [7,8,9],\n",
        "         'Sutun4': [10,11,12]}\n",
        "df1 = pd.DataFrame(data1, columns = ['Sutun1','Sutun2'])\n",
        "df2 = pd.DataFrame(data2, columns = ['Sutun3','Sutun4'])\n",
        "print(df1)\n",
        "print(df2)"
      ],
      "execution_count": 0,
      "outputs": []
    },
    {
      "cell_type": "markdown",
      "metadata": {
        "id": "nVX7NknjPCjW",
        "colab_type": "text"
      },
      "source": [
        "2 dataframe'i yanyana birleştirme:"
      ]
    },
    {
      "cell_type": "code",
      "metadata": {
        "id": "Jmg8X4LLPgWM",
        "colab_type": "code",
        "colab": {}
      },
      "source": [
        "df3 = pd.concat([df1,df2], axis=1)\n",
        "print(df3)"
      ],
      "execution_count": 0,
      "outputs": []
    },
    {
      "cell_type": "markdown",
      "metadata": {
        "id": "Y1JaJbnbRRTe",
        "colab_type": "text"
      },
      "source": [
        "2 dataframe'i alt alta birleştirme"
      ]
    },
    {
      "cell_type": "code",
      "metadata": {
        "id": "KQ8DirT8RV8F",
        "colab_type": "code",
        "colab": {}
      },
      "source": [
        "df4 = pd.concat([df1,df2], axis=0)\n",
        "print(df4)"
      ],
      "execution_count": 0,
      "outputs": []
    },
    {
      "cell_type": "markdown",
      "metadata": {
        "id": "DcUdSbf0_Uwa",
        "colab_type": "text"
      },
      "source": [
        "## I/O\n"
      ]
    },
    {
      "cell_type": "markdown",
      "metadata": {
        "id": "NhaVPhbE_3vt",
        "colab_type": "text"
      },
      "source": [
        "### CSV Okuma ve Yazma\n",
        "Pandas ile csv dosyası okunup pandas dataframe haline getirilebilir. Verilerin neyle ayrılacağını belirtmek için \"sep\" kullanılır. Default olarak virgüldür."
      ]
    },
    {
      "cell_type": "code",
      "metadata": {
        "id": "425kkwrRD9mW",
        "colab_type": "code",
        "colab": {}
      },
      "source": [
        "> pd.read_csv('dosya.csv' , header=None, nrows=5)\n",
        "df.to_csv('myDataFrame.csv')"
      ],
      "execution_count": 0,
      "outputs": []
    },
    {
      "cell_type": "markdown",
      "metadata": {
        "id": "rUHNoKTSEjGh",
        "colab_type": "text"
      },
      "source": [
        "### Excel Okuma ve Yazma\n"
      ]
    },
    {
      "cell_type": "code",
      "metadata": {
        "id": "iobIZ0uBE_7G",
        "colab_type": "code",
        "colab": {}
      },
      "source": [
        "pd.read_excel('dosya.xlsx')\n",
        "df.to_excel('dosyayolu/myDataFrame.xlsx', sheet_name='Sheet1')\n",
        "\n",
        "# Aynı dosyadan birden fazla sheet okuma\n",
        "\n",
        "xlsx = pd.ExcelFile('dosya.xls')\n",
        "df = pd.read_excel(xlsx, 'Sheet1')"
      ],
      "execution_count": 0,
      "outputs": []
    },
    {
      "cell_type": "markdown",
      "metadata": {
        "id": "BaonJg4fFsnD",
        "colab_type": "text"
      },
      "source": [
        "## Seçim"
      ]
    },
    {
      "cell_type": "markdown",
      "metadata": {
        "id": "jIGFubxlHihW",
        "colab_type": "text"
      },
      "source": [
        "### Veri Alma"
      ]
    },
    {
      "cell_type": "code",
      "metadata": {
        "id": "M7rLMpn7F5Nv",
        "colab_type": "code",
        "colab": {}
      },
      "source": [
        "# Tek bir bileşen için\n",
        "# s1[1] s1 serisinin 1.elemanıdır.\n",
        "print(s1[1])\n",
        "\n",
        "#Bir veri setinin alt kümesi için\n",
        "#df[1:,2] df dataframe'inin 1.satırından itibaren tüm satırları çağırma.\n",
        "#Bir dataframe'de veriler 0. index ile başlar\n",
        "print(df[1:])"
      ],
      "execution_count": 0,
      "outputs": []
    },
    {
      "cell_type": "markdown",
      "metadata": {
        "id": "S_oH26D-H5Zb",
        "colab_type": "text"
      },
      "source": [
        "### Veri Seçme ve Atama"
      ]
    },
    {
      "cell_type": "markdown",
      "metadata": {
        "id": "_nxMQEPoIQWJ",
        "colab_type": "text"
      },
      "source": [
        "Satır ve sütuna göre tek bir değer seçme"
      ]
    },
    {
      "cell_type": "code",
      "metadata": {
        "id": "CX7Bf1rfIYLC",
        "colab_type": "code",
        "colab": {}
      },
      "source": [
        "df.iloc[[0],[0]]   # 0.satır 0.sütun değeri"
      ],
      "execution_count": 0,
      "outputs": []
    },
    {
      "cell_type": "markdown",
      "metadata": {
        "id": "ItDMt6GfI5iL",
        "colab_type": "text"
      },
      "source": [
        "Etiketine göre değer seçme"
      ]
    },
    {
      "cell_type": "code",
      "metadata": {
        "id": "NPDNeiWCI7zW",
        "colab_type": "code",
        "colab": {}
      },
      "source": [
        " df.loc[[0], ['Baskent']]  # 0.satır Baskent sütunundaki değer"
      ],
      "execution_count": 0,
      "outputs": []
    },
    {
      "cell_type": "markdown",
      "metadata": {
        "id": "vFXF1RItJcuH",
        "colab_type": "text"
      },
      "source": [
        "Veri setinde değişiklik yapma"
      ]
    },
    {
      "cell_type": "code",
      "metadata": {
        "id": "CTSh0GZ4J9Cl",
        "colab_type": "code",
        "colab": {}
      },
      "source": [
        "s2[6] = 'A'\n",
        "print(s2)"
      ],
      "execution_count": 0,
      "outputs": []
    },
    {
      "cell_type": "markdown",
      "metadata": {
        "id": "qRBkYZXwK2u6",
        "colab_type": "text"
      },
      "source": [
        "## Dropping"
      ]
    },
    {
      "cell_type": "code",
      "metadata": {
        "id": "ouR4L40aLBhJ",
        "colab_type": "code",
        "colab": {}
      },
      "source": [
        " s1.drop([2, 3])"
      ],
      "execution_count": 0,
      "outputs": []
    },
    {
      "cell_type": "code",
      "metadata": {
        "id": "GHjmTfwELYkq",
        "colab_type": "code",
        "colab": {}
      },
      "source": [
        " df.drop('Nufus', axis=1)"
      ],
      "execution_count": 0,
      "outputs": []
    },
    {
      "cell_type": "markdown",
      "metadata": {
        "id": "hGljic5zLo3P",
        "colab_type": "text"
      },
      "source": [
        "## Eksik Veri"
      ]
    },
    {
      "cell_type": "markdown",
      "metadata": {
        "id": "a57dXchMNjGV",
        "colab_type": "text"
      },
      "source": [
        "### Eksik Veri Kontrolü"
      ]
    },
    {
      "cell_type": "markdown",
      "metadata": {
        "id": "13YckbWDM0nz",
        "colab_type": "text"
      },
      "source": [
        "Eksik veri olup olmadığını kontrol etmek için veriseti.isnull() kullanılır. Varsa True, yoksa False olarak döner.\n"
      ]
    },
    {
      "cell_type": "code",
      "metadata": {
        "id": "X1rkHYXoLtM7",
        "colab_type": "code",
        "colab": {}
      },
      "source": [
        "df.isnull()"
      ],
      "execution_count": 0,
      "outputs": []
    },
    {
      "cell_type": "markdown",
      "metadata": {
        "id": "Ni_9SkmSN72c",
        "colab_type": "text"
      },
      "source": [
        "Tam tersi için veriseti.null() kullanılabilir. Kayıp veri varsa False, yoksa True döner."
      ]
    },
    {
      "cell_type": "code",
      "metadata": {
        "id": "vPQR3dP2OHMC",
        "colab_type": "code",
        "colab": {}
      },
      "source": [
        "df.notnull()"
      ],
      "execution_count": 0,
      "outputs": []
    },
    {
      "cell_type": "markdown",
      "metadata": {
        "id": "94qZnIUrNatr",
        "colab_type": "text"
      },
      "source": [
        "### Eksik veri sayısı"
      ]
    },
    {
      "cell_type": "code",
      "metadata": {
        "id": "hxvF_lssNuxq",
        "colab_type": "code",
        "colab": {}
      },
      "source": [
        "df.isnull().sum()"
      ],
      "execution_count": 0,
      "outputs": []
    },
    {
      "cell_type": "markdown",
      "metadata": {
        "id": "a4opEzPrOXXB",
        "colab_type": "text"
      },
      "source": [
        "### Eksik veri doldurma"
      ]
    },
    {
      "cell_type": "markdown",
      "metadata": {
        "id": "4GXdGwi7Oin2",
        "colab_type": "text"
      },
      "source": [
        "Eksik verileri sütunun ortalama değeriyle doldurmak  için;"
      ]
    },
    {
      "cell_type": "code",
      "metadata": {
        "id": "YruznJQ6OhTP",
        "colab_type": "code",
        "colab": {}
      },
      "source": [
        "df.fillna(ortalama_deger)"
      ],
      "execution_count": 0,
      "outputs": []
    }
  ]
}
