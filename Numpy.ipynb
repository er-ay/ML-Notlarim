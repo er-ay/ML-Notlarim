{
  "nbformat": 4,
  "nbformat_minor": 0,
  "metadata": {
    "colab": {
      "name": "Numpy.ipynb",
      "provenance": [],
      "collapsed_sections": []
    },
    "kernelspec": {
      "name": "python3",
      "display_name": "Python 3"
    }
  },
  "cells": [
    {
      "cell_type": "markdown",
      "metadata": {
        "id": "vF81AZCDBN07",
        "colab_type": "text"
      },
      "source": [
        "# Numpy\n",
        "Numpy bilimsel hesaplamalar için Python'ın temel kütüphanesidir. Büyük boyutlu dizi ve matrisleri destekler ve yüksek seviye matematiksel fonksiyonları bunlar üzerinde işletebilir."
      ]
    },
    {
      "cell_type": "code",
      "metadata": {
        "id": "X2eHyfDWtZ5H",
        "colab_type": "code",
        "colab": {}
      },
      "source": [
        "import numpy as np"
      ],
      "execution_count": 0,
      "outputs": []
    },
    {
      "cell_type": "markdown",
      "metadata": {
        "id": "Z4Awu20FLBej",
        "colab_type": "text"
      },
      "source": [
        "numpy as np yazdıktan sonra numpy'ı kısaca np olarak kullanabiliriz."
      ]
    },
    {
      "cell_type": "markdown",
      "metadata": {
        "id": "wd9RLY5UCacg",
        "colab_type": "text"
      },
      "source": [
        "## Numpy Arrays\n",
        "Bir Numpy dizisi oluşturulurken np.array() dizimi kullanılır."
      ]
    },
    {
      "cell_type": "code",
      "metadata": {
        "id": "Aa6owHLxDKf4",
        "colab_type": "code",
        "colab": {
          "base_uri": "https://localhost:8080/",
          "height": 67
        },
        "outputId": "8fe984b1-4096-4953-e608-cc64a0fac2c6"
      },
      "source": [
        "# 5 elemanlı bir vektör\n",
        "a = np.array([1,2,3,4,5])\n",
        "print(a)\n",
        "#2 boyutlu bir dizi\n",
        "b = np.array([(1,2,3,4), (5,6,7,8)])\n",
        "print(b)"
      ],
      "execution_count": 11,
      "outputs": [
        {
          "output_type": "stream",
          "text": [
            "[1 2 3 4 5]\n",
            "[[1 2 3 4]\n",
            " [5 6 7 8]]\n"
          ],
          "name": "stdout"
        }
      ]
    },
    {
      "cell_type": "markdown",
      "metadata": {
        "id": "aj3oR_vjD2UK",
        "colab_type": "text"
      },
      "source": [
        "### Bir Dizi Başlatma\n",
        "Numpy ile tamamen 0 veya tamamen 1'lerden oluşan, alt üst sınır ve aralık belirleyebileceğimiz özel diziler, rastgele değerlerden oluşan, n boyutlu birim matris gibi çeşitli diziler tek satırla oluşturulabilinir."
      ]
    },
    {
      "cell_type": "markdown",
      "metadata": {
        "id": "FIjKyQX4EZuN",
        "colab_type": "text"
      },
      "source": [
        "**Zeros matrisi oluşturma**"
      ]
    },
    {
      "cell_type": "code",
      "metadata": {
        "id": "0hoiH8rwEhhA",
        "colab_type": "code",
        "colab": {
          "base_uri": "https://localhost:8080/",
          "height": 67
        },
        "outputId": "75f940c1-9600-4aac-f6e3-9818cb9563ab"
      },
      "source": [
        "z = np.zeros((3,4))\n",
        "print(z)"
      ],
      "execution_count": 3,
      "outputs": [
        {
          "output_type": "stream",
          "text": [
            "[[0. 0. 0. 0.]\n",
            " [0. 0. 0. 0.]\n",
            " [0. 0. 0. 0.]]\n"
          ],
          "name": "stdout"
        }
      ]
    },
    {
      "cell_type": "markdown",
      "metadata": {
        "id": "lFiDAavYFlzY",
        "colab_type": "text"
      },
      "source": [
        "**Ones matrisi oluşturma**"
      ]
    },
    {
      "cell_type": "code",
      "metadata": {
        "id": "3zWZKKPtFsDL",
        "colab_type": "code",
        "colab": {
          "base_uri": "https://localhost:8080/",
          "height": 67
        },
        "outputId": "77f715a1-a2e9-4478-9962-277200109f27"
      },
      "source": [
        "o = np.ones((3,5))\n",
        "print(o)"
      ],
      "execution_count": 12,
      "outputs": [
        {
          "output_type": "stream",
          "text": [
            "[[1. 1. 1. 1. 1.]\n",
            " [1. 1. 1. 1. 1.]\n",
            " [1. 1. 1. 1. 1.]]\n"
          ],
          "name": "stdout"
        }
      ]
    },
    {
      "cell_type": "markdown",
      "metadata": {
        "id": "nmqnbV6QF7BG",
        "colab_type": "text"
      },
      "source": [
        "**Eşit aralıklı matris oluşturma**\n",
        "np.arange(min,max,adım) şeklinde girilir. Burada üst sınır olarak girilen sayı dahil değildir."
      ]
    },
    {
      "cell_type": "code",
      "metadata": {
        "id": "c_psuauhGK_m",
        "colab_type": "code",
        "colab": {
          "base_uri": "https://localhost:8080/",
          "height": 34
        },
        "outputId": "5894ac80-2220-431d-ba3b-b7b21234d7d7"
      },
      "source": [
        "n = np.arange(5,106,20)\n",
        "print(n)"
      ],
      "execution_count": 17,
      "outputs": [
        {
          "output_type": "stream",
          "text": [
            "[  5  25  45  65  85 105]\n"
          ],
          "name": "stdout"
        }
      ]
    },
    {
      "cell_type": "markdown",
      "metadata": {
        "id": "q45E5dA-HO8O",
        "colab_type": "text"
      },
      "source": [
        "**Belirli aralığı eşit parçaya bölen vektörü oluşturma** np.linspace(min,max,örneksayısı)"
      ]
    },
    {
      "cell_type": "code",
      "metadata": {
        "id": "TxCn2aBpHVs5",
        "colab_type": "code",
        "colab": {
          "base_uri": "https://localhost:8080/",
          "height": 34
        },
        "outputId": "d05318a4-8223-471b-fae4-d63210e85ac8"
      },
      "source": [
        "w = np.linspace(0.5,2,5)\n",
        "print(w)"
      ],
      "execution_count": 19,
      "outputs": [
        {
          "output_type": "stream",
          "text": [
            "[0.5   0.875 1.25  1.625 2.   ]\n"
          ],
          "name": "stdout"
        }
      ]
    },
    {
      "cell_type": "markdown",
      "metadata": {
        "id": "Etmt2rNYH7na",
        "colab_type": "text"
      },
      "source": [
        "**NxM boyutlu sabit sayı dizisi oluşturma**"
      ]
    },
    {
      "cell_type": "code",
      "metadata": {
        "id": "5Yc2tZbVH8FV",
        "colab_type": "code",
        "colab": {
          "base_uri": "https://localhost:8080/",
          "height": 67
        },
        "outputId": "53bef556-9174-4dcd-d54e-d93b43ac2707"
      },
      "source": [
        "e = np.full((3,3),5)\n",
        "print(e)"
      ],
      "execution_count": 23,
      "outputs": [
        {
          "output_type": "stream",
          "text": [
            "[[5 5 5]\n",
            " [5 5 5]\n",
            " [5 5 5]]\n"
          ],
          "name": "stdout"
        }
      ]
    },
    {
      "cell_type": "markdown",
      "metadata": {
        "id": "gNmEp4bIIUew",
        "colab_type": "text"
      },
      "source": [
        "**NxN boyutunda birim matris oluşturma**"
      ]
    },
    {
      "cell_type": "code",
      "metadata": {
        "id": "xTXD5MrwIgoa",
        "colab_type": "code",
        "colab": {
          "base_uri": "https://localhost:8080/",
          "height": 84
        },
        "outputId": "c94271c3-58d1-46a2-f200-d2d0f882e35e"
      },
      "source": [
        "i = np.eye(4)\n",
        "print(i)"
      ],
      "execution_count": 24,
      "outputs": [
        {
          "output_type": "stream",
          "text": [
            "[[1. 0. 0. 0.]\n",
            " [0. 1. 0. 0.]\n",
            " [0. 0. 1. 0.]\n",
            " [0. 0. 0. 1.]]\n"
          ],
          "name": "stdout"
        }
      ]
    },
    {
      "cell_type": "markdown",
      "metadata": {
        "id": "NwJ5C6lKIoMG",
        "colab_type": "text"
      },
      "source": [
        "**Rastgele değerler matrisi oluşturma (0-1 arasında)**"
      ]
    },
    {
      "cell_type": "code",
      "metadata": {
        "id": "5qhgZM9zIoiQ",
        "colab_type": "code",
        "colab": {
          "base_uri": "https://localhost:8080/",
          "height": 67
        },
        "outputId": "223c436c-d1cf-4ec0-eadd-fd1fbe6edc38"
      },
      "source": [
        "r1 = np.random.random((3,4))\n",
        "print(r1)"
      ],
      "execution_count": 27,
      "outputs": [
        {
          "output_type": "stream",
          "text": [
            "[[0.81307083 0.58060778 0.50290036 0.72594285]\n",
            " [0.21376038 0.08804649 0.43992275 0.29560351]\n",
            " [0.37013476 0.30547292 0.52806921 0.76189612]]\n"
          ],
          "name": "stdout"
        }
      ]
    },
    {
      "cell_type": "markdown",
      "metadata": {
        "id": "hM_tbJkCI_D7",
        "colab_type": "text"
      },
      "source": [
        "**Rastgele değerler matrisi oluşturma (Aralık belirleyerek)** Alt değer dahildir, üst deer dahil değildir. np.random.randint(min,max,(boyut x boyut))"
      ]
    },
    {
      "cell_type": "code",
      "metadata": {
        "id": "3T-3dx03JNSX",
        "colab_type": "code",
        "colab": {
          "base_uri": "https://localhost:8080/",
          "height": 118
        },
        "outputId": "e2b5fbbc-8822-49eb-d839-da1b6f114959"
      },
      "source": [
        "r2 = np.random.randint(1,20,(5,5))\n",
        "print(r2)\n"
      ],
      "execution_count": 29,
      "outputs": [
        {
          "output_type": "stream",
          "text": [
            "[[19  7  3  6 13]\n",
            " [ 7 18  8 12  4]\n",
            " [ 9 11  3 15 18]\n",
            " [10 18 10 11 14]\n",
            " [ 9  7  9  9  9]]\n",
            "[18  9 15 17 15  5 11 25 10 23]\n"
          ],
          "name": "stdout"
        }
      ]
    },
    {
      "cell_type": "markdown",
      "metadata": {
        "id": "oo0HJfpsKMKi",
        "colab_type": "text"
      },
      "source": [
        "Sadece üst sınır ve boyut belirleyerek aşağıdaki gibi de oluşturulabilir. Alt sınır 0 olur."
      ]
    },
    {
      "cell_type": "code",
      "metadata": {
        "id": "UuNr_8LrKU6q",
        "colab_type": "code",
        "colab": {
          "base_uri": "https://localhost:8080/",
          "height": 34
        },
        "outputId": "3d01263b-292e-4fc3-d9a1-a7638013cb6d"
      },
      "source": [
        "r3 = np.random.randint(50, size=(10))\n",
        "print(r3)"
      ],
      "execution_count": 30,
      "outputs": [
        {
          "output_type": "stream",
          "text": [
            "[19 17 37 34 49 29  6 13 29 45]\n"
          ],
          "name": "stdout"
        }
      ]
    },
    {
      "cell_type": "markdown",
      "metadata": {
        "id": "KqDvRyLKLc0X",
        "colab_type": "text"
      },
      "source": [
        "## Dizi Özelliklerini Kontrol Etme"
      ]
    },
    {
      "cell_type": "markdown",
      "metadata": {
        "id": "oAUL0PmPL-PE",
        "colab_type": "text"
      },
      "source": [
        "**Dizi boyutununu bulma**"
      ]
    },
    {
      "cell_type": "code",
      "metadata": {
        "id": "T4bkfLv1MCln",
        "colab_type": "code",
        "colab": {
          "base_uri": "https://localhost:8080/",
          "height": 34
        },
        "outputId": "b4e311a4-329d-45b4-d164-b0995a1b10dc"
      },
      "source": [
        "r2.shape"
      ],
      "execution_count": 32,
      "outputs": [
        {
          "output_type": "execute_result",
          "data": {
            "text/plain": [
              "(5, 5)"
            ]
          },
          "metadata": {
            "tags": []
          },
          "execution_count": 32
        }
      ]
    },
    {
      "cell_type": "code",
      "metadata": {
        "id": "MTtunZKHMIjX",
        "colab_type": "code",
        "colab": {
          "base_uri": "https://localhost:8080/",
          "height": 34
        },
        "outputId": "fef8fd71-2b91-45b0-c296-2382d7732958"
      },
      "source": [
        "r3.shape"
      ],
      "execution_count": 33,
      "outputs": [
        {
          "output_type": "execute_result",
          "data": {
            "text/plain": [
              "(10,)"
            ]
          },
          "metadata": {
            "tags": []
          },
          "execution_count": 33
        }
      ]
    },
    {
      "cell_type": "markdown",
      "metadata": {
        "id": "z3u4FjVfMLNQ",
        "colab_type": "text"
      },
      "source": [
        "**Dizi uzunluğunu bulma**"
      ]
    },
    {
      "cell_type": "code",
      "metadata": {
        "id": "KPcyFsf5MOT7",
        "colab_type": "code",
        "colab": {
          "base_uri": "https://localhost:8080/",
          "height": 34
        },
        "outputId": "23a16997-b86a-4305-c239-1f92011f0285"
      },
      "source": [
        "len(r3)"
      ],
      "execution_count": 34,
      "outputs": [
        {
          "output_type": "execute_result",
          "data": {
            "text/plain": [
              "10"
            ]
          },
          "metadata": {
            "tags": []
          },
          "execution_count": 34
        }
      ]
    },
    {
      "cell_type": "markdown",
      "metadata": {
        "id": "-lGZkcAuMrUV",
        "colab_type": "text"
      },
      "source": [
        "**Dizi boyut sayısını bulma**"
      ]
    },
    {
      "cell_type": "code",
      "metadata": {
        "id": "-RY7WgApMxGo",
        "colab_type": "code",
        "colab": {
          "base_uri": "https://localhost:8080/",
          "height": 34
        },
        "outputId": "bf4649d2-bd2d-4dd4-9a14-074e2f0a002d"
      },
      "source": [
        "i.ndim"
      ],
      "execution_count": 37,
      "outputs": [
        {
          "output_type": "execute_result",
          "data": {
            "text/plain": [
              "2"
            ]
          },
          "metadata": {
            "tags": []
          },
          "execution_count": 37
        }
      ]
    },
    {
      "cell_type": "markdown",
      "metadata": {
        "id": "mNzYA2L2M-ut",
        "colab_type": "text"
      },
      "source": [
        "**Dizi eleman sayısını bulma**"
      ]
    },
    {
      "cell_type": "code",
      "metadata": {
        "id": "a5A-A2zlNDgL",
        "colab_type": "code",
        "colab": {
          "base_uri": "https://localhost:8080/",
          "height": 34
        },
        "outputId": "45c70f9a-4884-4741-ef89-730128046e6d"
      },
      "source": [
        "i.size"
      ],
      "execution_count": 38,
      "outputs": [
        {
          "output_type": "execute_result",
          "data": {
            "text/plain": [
              "16"
            ]
          },
          "metadata": {
            "tags": []
          },
          "execution_count": 38
        }
      ]
    },
    {
      "cell_type": "markdown",
      "metadata": {
        "id": "pS9jB-EuNJNi",
        "colab_type": "text"
      },
      "source": [
        "**Dizi elemanlarının veri tipini bulma**"
      ]
    },
    {
      "cell_type": "code",
      "metadata": {
        "id": "mDiC6ndFNN0T",
        "colab_type": "code",
        "colab": {
          "base_uri": "https://localhost:8080/",
          "height": 34
        },
        "outputId": "430515df-a845-473b-e70d-d7732a41f083"
      },
      "source": [
        "i.dtype"
      ],
      "execution_count": 39,
      "outputs": [
        {
          "output_type": "execute_result",
          "data": {
            "text/plain": [
              "dtype('float64')"
            ]
          },
          "metadata": {
            "tags": []
          },
          "execution_count": 39
        }
      ]
    },
    {
      "cell_type": "code",
      "metadata": {
        "id": "OXsw75IjNTz0",
        "colab_type": "code",
        "colab": {
          "base_uri": "https://localhost:8080/",
          "height": 34
        },
        "outputId": "4c1839a4-b9ff-40b0-cc83-606acbbdf591"
      },
      "source": [
        "i.dtype.name"
      ],
      "execution_count": 40,
      "outputs": [
        {
          "output_type": "execute_result",
          "data": {
            "text/plain": [
              "'float64'"
            ]
          },
          "metadata": {
            "tags": []
          },
          "execution_count": 40
        }
      ]
    },
    {
      "cell_type": "markdown",
      "metadata": {
        "id": "qlMzhVQqNa0D",
        "colab_type": "text"
      },
      "source": [
        "**Dizinin türünü değiştirme**"
      ]
    },
    {
      "cell_type": "code",
      "metadata": {
        "id": "0uZLMNHpNhuc",
        "colab_type": "code",
        "colab": {
          "base_uri": "https://localhost:8080/",
          "height": 84
        },
        "outputId": "35737c9b-c1ee-4c5c-f877-e3231de8304a"
      },
      "source": [
        "i.astype(int)"
      ],
      "execution_count": 41,
      "outputs": [
        {
          "output_type": "execute_result",
          "data": {
            "text/plain": [
              "array([[1, 0, 0, 0],\n",
              "       [0, 1, 0, 0],\n",
              "       [0, 0, 1, 0],\n",
              "       [0, 0, 0, 1]])"
            ]
          },
          "metadata": {
            "tags": []
          },
          "execution_count": 41
        }
      ]
    },
    {
      "cell_type": "markdown",
      "metadata": {
        "id": "-Ue56AQtNoxo",
        "colab_type": "text"
      },
      "source": [
        "## Aritmetik İşlemler"
      ]
    },
    {
      "cell_type": "markdown",
      "metadata": {
        "id": "tcDfhIfdN7cH",
        "colab_type": "text"
      },
      "source": [
        "Numpy'ın temel kütüphanelerden birisi olmasındaki en büyük sebep matematiksel işlemlerde kolaylık sağlamasıdır. Özellikle dizi işlemlerinde çok kullanışlı fonksiyonlara sahiptir."
      ]
    },
    {
      "cell_type": "code",
      "metadata": {
        "id": "5s0csifDOcuH",
        "colab_type": "code",
        "colab": {
          "base_uri": "https://localhost:8080/",
          "height": 269
        },
        "outputId": "5de49d99-c0bf-47ad-be2d-750b18348382"
      },
      "source": [
        "x = np.full((5,5),5)\n",
        "print(x)\n",
        "y = np.zeros ((5,5))\n",
        "print(y)\n",
        "z = np.ones((5,5))\n",
        "print(z)"
      ],
      "execution_count": 65,
      "outputs": [
        {
          "output_type": "stream",
          "text": [
            "[[5 5 5 5 5]\n",
            " [5 5 5 5 5]\n",
            " [5 5 5 5 5]\n",
            " [5 5 5 5 5]\n",
            " [5 5 5 5 5]]\n",
            "[[0. 0. 0. 0. 0.]\n",
            " [0. 0. 0. 0. 0.]\n",
            " [0. 0. 0. 0. 0.]\n",
            " [0. 0. 0. 0. 0.]\n",
            " [0. 0. 0. 0. 0.]]\n",
            "[[1. 1. 1. 1. 1.]\n",
            " [1. 1. 1. 1. 1.]\n",
            " [1. 1. 1. 1. 1.]\n",
            " [1. 1. 1. 1. 1.]\n",
            " [1. 1. 1. 1. 1.]]\n"
          ],
          "name": "stdout"
        }
      ]
    },
    {
      "cell_type": "markdown",
      "metadata": {
        "id": "Gp310cCcOa8r",
        "colab_type": "text"
      },
      "source": [
        "**Toplama**"
      ]
    },
    {
      "cell_type": "code",
      "metadata": {
        "id": "zNBWGGoWOu6V",
        "colab_type": "code",
        "colab": {
          "base_uri": "https://localhost:8080/",
          "height": 101
        },
        "outputId": "775ea6e3-bfb5-4c7b-f7dc-b07863ff0fb4"
      },
      "source": [
        "np.add(x,z)"
      ],
      "execution_count": 50,
      "outputs": [
        {
          "output_type": "execute_result",
          "data": {
            "text/plain": [
              "array([[6., 6., 6., 6., 6.],\n",
              "       [6., 6., 6., 6., 6.],\n",
              "       [6., 6., 6., 6., 6.],\n",
              "       [6., 6., 6., 6., 6.],\n",
              "       [6., 6., 6., 6., 6.]])"
            ]
          },
          "metadata": {
            "tags": []
          },
          "execution_count": 50
        }
      ]
    },
    {
      "cell_type": "markdown",
      "metadata": {
        "id": "MV74RRbKP7vK",
        "colab_type": "text"
      },
      "source": [
        "**Çıkarma**"
      ]
    },
    {
      "cell_type": "code",
      "metadata": {
        "id": "ka_10IVhP1uB",
        "colab_type": "code",
        "colab": {
          "base_uri": "https://localhost:8080/",
          "height": 101
        },
        "outputId": "5ab8710c-d024-4c36-ef86-819a98c1857b"
      },
      "source": [
        "np.subtract(y,x) # y-x"
      ],
      "execution_count": 51,
      "outputs": [
        {
          "output_type": "execute_result",
          "data": {
            "text/plain": [
              "array([[-5., -5., -5., -5., -5.],\n",
              "       [-5., -5., -5., -5., -5.],\n",
              "       [-5., -5., -5., -5., -5.],\n",
              "       [-5., -5., -5., -5., -5.],\n",
              "       [-5., -5., -5., -5., -5.]])"
            ]
          },
          "metadata": {
            "tags": []
          },
          "execution_count": 51
        }
      ]
    },
    {
      "cell_type": "markdown",
      "metadata": {
        "id": "SjJ3xMnUQJ8G",
        "colab_type": "text"
      },
      "source": [
        "**Çarpma**"
      ]
    },
    {
      "cell_type": "code",
      "metadata": {
        "id": "XSJP2aAjQMWr",
        "colab_type": "code",
        "colab": {
          "base_uri": "https://localhost:8080/",
          "height": 101
        },
        "outputId": "22b342d8-d1aa-4a1e-f50b-8793a73b8714"
      },
      "source": [
        "np.multiply(x,2*z)"
      ],
      "execution_count": 67,
      "outputs": [
        {
          "output_type": "execute_result",
          "data": {
            "text/plain": [
              "array([[10., 10., 10., 10., 10.],\n",
              "       [10., 10., 10., 10., 10.],\n",
              "       [10., 10., 10., 10., 10.],\n",
              "       [10., 10., 10., 10., 10.],\n",
              "       [10., 10., 10., 10., 10.]])"
            ]
          },
          "metadata": {
            "tags": []
          },
          "execution_count": 67
        }
      ]
    },
    {
      "cell_type": "markdown",
      "metadata": {
        "id": "qAkDi0ibQ2yt",
        "colab_type": "text"
      },
      "source": [
        "**Bölme**"
      ]
    },
    {
      "cell_type": "code",
      "metadata": {
        "id": "Bn7dDVEyQ6Zc",
        "colab_type": "code",
        "colab": {
          "base_uri": "https://localhost:8080/",
          "height": 101
        },
        "outputId": "911dd69a-88c7-4943-f279-5625ad91601e"
      },
      "source": [
        "np.divide(x,2*z)"
      ],
      "execution_count": 69,
      "outputs": [
        {
          "output_type": "execute_result",
          "data": {
            "text/plain": [
              "array([[2.5, 2.5, 2.5, 2.5, 2.5],\n",
              "       [2.5, 2.5, 2.5, 2.5, 2.5],\n",
              "       [2.5, 2.5, 2.5, 2.5, 2.5],\n",
              "       [2.5, 2.5, 2.5, 2.5, 2.5],\n",
              "       [2.5, 2.5, 2.5, 2.5, 2.5]])"
            ]
          },
          "metadata": {
            "tags": []
          },
          "execution_count": 69
        }
      ]
    },
    {
      "cell_type": "markdown",
      "metadata": {
        "id": "m_vZ7xWzRnr6",
        "colab_type": "text"
      },
      "source": [
        "**Eksponansiyel**"
      ]
    },
    {
      "cell_type": "code",
      "metadata": {
        "id": "dXxd-HY-Rt_M",
        "colab_type": "code",
        "colab": {
          "base_uri": "https://localhost:8080/",
          "height": 101
        },
        "outputId": "b43d67c1-204a-47fb-f8dd-5f6a17a4d7d7"
      },
      "source": [
        "np.exp(z) # z vektörü elemanlarını e sayısının kuvveti olarak alır."
      ],
      "execution_count": 70,
      "outputs": [
        {
          "output_type": "execute_result",
          "data": {
            "text/plain": [
              "array([[2.71828183, 2.71828183, 2.71828183, 2.71828183, 2.71828183],\n",
              "       [2.71828183, 2.71828183, 2.71828183, 2.71828183, 2.71828183],\n",
              "       [2.71828183, 2.71828183, 2.71828183, 2.71828183, 2.71828183],\n",
              "       [2.71828183, 2.71828183, 2.71828183, 2.71828183, 2.71828183],\n",
              "       [2.71828183, 2.71828183, 2.71828183, 2.71828183, 2.71828183]])"
            ]
          },
          "metadata": {
            "tags": []
          },
          "execution_count": 70
        }
      ]
    },
    {
      "cell_type": "markdown",
      "metadata": {
        "id": "TDN34tLzR91J",
        "colab_type": "text"
      },
      "source": [
        "**Karekökünü alma**"
      ]
    },
    {
      "cell_type": "code",
      "metadata": {
        "id": "aauCx_47SovC",
        "colab_type": "code",
        "colab": {
          "base_uri": "https://localhost:8080/",
          "height": 101
        },
        "outputId": "02642d73-9501-4ed3-a2e2-37f5ca32f0a9"
      },
      "source": [
        "np.sqrt(x)"
      ],
      "execution_count": 71,
      "outputs": [
        {
          "output_type": "execute_result",
          "data": {
            "text/plain": [
              "array([[2.23606798, 2.23606798, 2.23606798, 2.23606798, 2.23606798],\n",
              "       [2.23606798, 2.23606798, 2.23606798, 2.23606798, 2.23606798],\n",
              "       [2.23606798, 2.23606798, 2.23606798, 2.23606798, 2.23606798],\n",
              "       [2.23606798, 2.23606798, 2.23606798, 2.23606798, 2.23606798],\n",
              "       [2.23606798, 2.23606798, 2.23606798, 2.23606798, 2.23606798]])"
            ]
          },
          "metadata": {
            "tags": []
          },
          "execution_count": 71
        }
      ]
    },
    {
      "cell_type": "markdown",
      "metadata": {
        "id": "G2xC-PNoSwnr",
        "colab_type": "text"
      },
      "source": [
        "**Doğal Logaritma**"
      ]
    },
    {
      "cell_type": "code",
      "metadata": {
        "id": "FCD1Z90yS1z9",
        "colab_type": "code",
        "colab": {
          "base_uri": "https://localhost:8080/",
          "height": 101
        },
        "outputId": "2b9169f2-4ee9-4bde-b5ac-ec6d0f4a3dd7"
      },
      "source": [
        "np.log(x)"
      ],
      "execution_count": 75,
      "outputs": [
        {
          "output_type": "execute_result",
          "data": {
            "text/plain": [
              "array([[1.60943791, 1.60943791, 1.60943791, 1.60943791, 1.60943791],\n",
              "       [1.60943791, 1.60943791, 1.60943791, 1.60943791, 1.60943791],\n",
              "       [1.60943791, 1.60943791, 1.60943791, 1.60943791, 1.60943791],\n",
              "       [1.60943791, 1.60943791, 1.60943791, 1.60943791, 1.60943791],\n",
              "       [1.60943791, 1.60943791, 1.60943791, 1.60943791, 1.60943791]])"
            ]
          },
          "metadata": {
            "tags": []
          },
          "execution_count": 75
        }
      ]
    },
    {
      "cell_type": "markdown",
      "metadata": {
        "id": "4ZZk_6GmTFhA",
        "colab_type": "text"
      },
      "source": [
        "**Trigonometrik işlemler**"
      ]
    },
    {
      "cell_type": "code",
      "metadata": {
        "id": "HttWP4tQTKMw",
        "colab_type": "code",
        "colab": {
          "base_uri": "https://localhost:8080/",
          "height": 101
        },
        "outputId": "5f775393-1c0c-42d2-f25a-4a04f99b9f58"
      },
      "source": [
        "np.sin(x)"
      ],
      "execution_count": 77,
      "outputs": [
        {
          "output_type": "execute_result",
          "data": {
            "text/plain": [
              "array([[-0.95892427, -0.95892427, -0.95892427, -0.95892427, -0.95892427],\n",
              "       [-0.95892427, -0.95892427, -0.95892427, -0.95892427, -0.95892427],\n",
              "       [-0.95892427, -0.95892427, -0.95892427, -0.95892427, -0.95892427],\n",
              "       [-0.95892427, -0.95892427, -0.95892427, -0.95892427, -0.95892427],\n",
              "       [-0.95892427, -0.95892427, -0.95892427, -0.95892427, -0.95892427]])"
            ]
          },
          "metadata": {
            "tags": []
          },
          "execution_count": 77
        }
      ]
    },
    {
      "cell_type": "code",
      "metadata": {
        "id": "UrJjdRoXTUdt",
        "colab_type": "code",
        "colab": {
          "base_uri": "https://localhost:8080/",
          "height": 101
        },
        "outputId": "7249890a-b210-4a3e-84b7-f17da65645ed"
      },
      "source": [
        "np.cos(y)"
      ],
      "execution_count": 78,
      "outputs": [
        {
          "output_type": "execute_result",
          "data": {
            "text/plain": [
              "array([[1., 1., 1., 1., 1.],\n",
              "       [1., 1., 1., 1., 1.],\n",
              "       [1., 1., 1., 1., 1.],\n",
              "       [1., 1., 1., 1., 1.],\n",
              "       [1., 1., 1., 1., 1.]])"
            ]
          },
          "metadata": {
            "tags": []
          },
          "execution_count": 78
        }
      ]
    },
    {
      "cell_type": "markdown",
      "metadata": {
        "id": "ibM8K6gKTrZW",
        "colab_type": "text"
      },
      "source": [
        "## Fonksiyonlar"
      ]
    },
    {
      "cell_type": "markdown",
      "metadata": {
        "id": "2LxArmEBT0Wz",
        "colab_type": "text"
      },
      "source": [
        "**Dizi elemanlarını toplama**"
      ]
    },
    {
      "cell_type": "code",
      "metadata": {
        "id": "61TMXmqOT4Uc",
        "colab_type": "code",
        "colab": {
          "base_uri": "https://localhost:8080/",
          "height": 34
        },
        "outputId": "760717ed-6b87-4ddf-a112-2fc286d40f21"
      },
      "source": [
        "x.sum()"
      ],
      "execution_count": 79,
      "outputs": [
        {
          "output_type": "execute_result",
          "data": {
            "text/plain": [
              "125"
            ]
          },
          "metadata": {
            "tags": []
          },
          "execution_count": 79
        }
      ]
    },
    {
      "cell_type": "markdown",
      "metadata": {
        "id": "dUkaEhmVT87q",
        "colab_type": "text"
      },
      "source": [
        "**Minimum değeri bulma**"
      ]
    },
    {
      "cell_type": "code",
      "metadata": {
        "id": "f80G5aLyT9Po",
        "colab_type": "code",
        "colab": {
          "base_uri": "https://localhost:8080/",
          "height": 34
        },
        "outputId": "94d5d710-9fd5-4d08-ba9a-db34f52db84d"
      },
      "source": [
        "t = np.random.randint(10,60,5)\n",
        "print(t)"
      ],
      "execution_count": 80,
      "outputs": [
        {
          "output_type": "stream",
          "text": [
            "[41 42 15 55 45]\n"
          ],
          "name": "stdout"
        }
      ]
    },
    {
      "cell_type": "code",
      "metadata": {
        "id": "b4iDoAIcUREY",
        "colab_type": "code",
        "colab": {
          "base_uri": "https://localhost:8080/",
          "height": 34
        },
        "outputId": "7825c6b4-c102-431d-e5c0-5af952ea6aa5"
      },
      "source": [
        "t.min()"
      ],
      "execution_count": 81,
      "outputs": [
        {
          "output_type": "execute_result",
          "data": {
            "text/plain": [
              "15"
            ]
          },
          "metadata": {
            "tags": []
          },
          "execution_count": 81
        }
      ]
    },
    {
      "cell_type": "markdown",
      "metadata": {
        "id": "UHh6nMRAT_mo",
        "colab_type": "text"
      },
      "source": [
        "**Maksimum değeri bulma**"
      ]
    },
    {
      "cell_type": "code",
      "metadata": {
        "id": "zZXXXepJT_5u",
        "colab_type": "code",
        "colab": {
          "base_uri": "https://localhost:8080/",
          "height": 34
        },
        "outputId": "28970bcd-d9db-49e0-f8ce-7ea1a28a6acc"
      },
      "source": [
        "t.max()"
      ],
      "execution_count": 82,
      "outputs": [
        {
          "output_type": "execute_result",
          "data": {
            "text/plain": [
              "55"
            ]
          },
          "metadata": {
            "tags": []
          },
          "execution_count": 82
        }
      ]
    },
    {
      "cell_type": "markdown",
      "metadata": {
        "id": "jifg9eeJUdLo",
        "colab_type": "text"
      },
      "source": [
        "**Ortalama değeri bulma**"
      ]
    },
    {
      "cell_type": "code",
      "metadata": {
        "id": "RCcYMr_MUhms",
        "colab_type": "code",
        "colab": {
          "base_uri": "https://localhost:8080/",
          "height": 34
        },
        "outputId": "4bee9636-5fed-4dcd-dce1-a73fc62ff0b0"
      },
      "source": [
        "t.mean()"
      ],
      "execution_count": 87,
      "outputs": [
        {
          "output_type": "execute_result",
          "data": {
            "text/plain": [
              "39.6"
            ]
          },
          "metadata": {
            "tags": []
          },
          "execution_count": 87
        }
      ]
    },
    {
      "cell_type": "markdown",
      "metadata": {
        "id": "zXU0KK2FWIss",
        "colab_type": "text"
      },
      "source": [
        "**Dizi elemanlarını sıralama**"
      ]
    },
    {
      "cell_type": "code",
      "metadata": {
        "id": "uCQrWLBIWM2g",
        "colab_type": "code",
        "colab": {
          "base_uri": "https://localhost:8080/",
          "height": 34
        },
        "outputId": "305f3be9-ca51-4474-cb40-4988eed7627d"
      },
      "source": [
        "t.sort()\n",
        "print(t)"
      ],
      "execution_count": 89,
      "outputs": [
        {
          "output_type": "stream",
          "text": [
            "[15 41 42 45 55]\n"
          ],
          "name": "stdout"
        }
      ]
    },
    {
      "cell_type": "markdown",
      "metadata": {
        "id": "b_ZAUcrAc4Xf",
        "colab_type": "text"
      },
      "source": [
        "## Subsetting, Slicing, Indexing"
      ]
    },
    {
      "cell_type": "markdown",
      "metadata": {
        "id": "26iM8FU3dHqA",
        "colab_type": "text"
      },
      "source": [
        "Listelerde de kullanılan, dizi içinden belli bir elemanın alınması, dizinin satır sütunlarının bir kısmının kesilmesi veya bir şartı sağlayan elemanların seçilmesi gibi işlemler yapılabilir."
      ]
    },
    {
      "cell_type": "code",
      "metadata": {
        "id": "PYQsxKt8eJaM",
        "colab_type": "code",
        "colab": {
          "base_uri": "https://localhost:8080/",
          "height": 84
        },
        "outputId": "9c88c86d-8d59-4bd3-dc0d-a02f65065752"
      },
      "source": [
        "p = 10*np.random.random((4,3))\n",
        "print(p)"
      ],
      "execution_count": 91,
      "outputs": [
        {
          "output_type": "stream",
          "text": [
            "[[7.71651561 5.33793857 7.60059837]\n",
            " [0.01222373 3.04653252 6.03236162]\n",
            " [5.9859997  4.36967264 4.93112821]\n",
            " [4.80846228 6.31379851 0.57127202]]\n"
          ],
          "name": "stdout"
        }
      ]
    },
    {
      "cell_type": "markdown",
      "metadata": {
        "id": "HmcWgt9ceBzo",
        "colab_type": "text"
      },
      "source": [
        "### Subsetting"
      ]
    },
    {
      "cell_type": "code",
      "metadata": {
        "id": "kYZ2-xLMeI0y",
        "colab_type": "code",
        "colab": {
          "base_uri": "https://localhost:8080/",
          "height": 34
        },
        "outputId": "990e09c1-2839-427e-a8cc-6950e8a74e60"
      },
      "source": [
        "p[0,0]"
      ],
      "execution_count": 95,
      "outputs": [
        {
          "output_type": "execute_result",
          "data": {
            "text/plain": [
              "7.716515605579705"
            ]
          },
          "metadata": {
            "tags": []
          },
          "execution_count": 95
        }
      ]
    },
    {
      "cell_type": "code",
      "metadata": {
        "id": "t3as_uh9fPgm",
        "colab_type": "code",
        "colab": {
          "base_uri": "https://localhost:8080/",
          "height": 34
        },
        "outputId": "c8a8a707-babb-41a7-ad94-e9ab922c2a3e"
      },
      "source": [
        "p[2,1]"
      ],
      "execution_count": 96,
      "outputs": [
        {
          "output_type": "execute_result",
          "data": {
            "text/plain": [
              "4.369672642622709"
            ]
          },
          "metadata": {
            "tags": []
          },
          "execution_count": 96
        }
      ]
    },
    {
      "cell_type": "markdown",
      "metadata": {
        "id": "7xNlSMK4fU53",
        "colab_type": "text"
      },
      "source": [
        "### Slicing"
      ]
    },
    {
      "cell_type": "markdown",
      "metadata": {
        "id": "eAOa4LF_ft3c",
        "colab_type": "text"
      },
      "source": [
        "Burada girilen sınırlar exclusivedir. Yani girilen satır sütun değerleri dahil değildir."
      ]
    },
    {
      "cell_type": "code",
      "metadata": {
        "id": "Zlk9f-q7fYNN",
        "colab_type": "code",
        "colab": {
          "base_uri": "https://localhost:8080/",
          "height": 50
        },
        "outputId": "daf92383-fe61-4e91-926b-67af2dedcb29"
      },
      "source": [
        "p[:2,:2] # 2.satır ve 2.sütuna kadar olan alt matris"
      ],
      "execution_count": 98,
      "outputs": [
        {
          "output_type": "execute_result",
          "data": {
            "text/plain": [
              "array([[7.71651561, 5.33793857],\n",
              "       [0.01222373, 3.04653252]])"
            ]
          },
          "metadata": {
            "tags": []
          },
          "execution_count": 98
        }
      ]
    },
    {
      "cell_type": "code",
      "metadata": {
        "id": "BhzqP3yAgLEK",
        "colab_type": "code",
        "colab": {
          "base_uri": "https://localhost:8080/",
          "height": 34
        },
        "outputId": "641db6b2-e599-446b-a2fa-6745f3edeb40"
      },
      "source": [
        "p[1,:] # 1 indeksli satır ve tüm sütunlar"
      ],
      "execution_count": 99,
      "outputs": [
        {
          "output_type": "execute_result",
          "data": {
            "text/plain": [
              "array([0.01222373, 3.04653252, 6.03236162])"
            ]
          },
          "metadata": {
            "tags": []
          },
          "execution_count": 99
        }
      ]
    },
    {
      "cell_type": "code",
      "metadata": {
        "id": "Ed-xVeKGgDKb",
        "colab_type": "code",
        "colab": {
          "base_uri": "https://localhost:8080/",
          "height": 34
        },
        "outputId": "3528f581-2ae4-4ba6-947a-406fdd87435a"
      },
      "source": [
        "p[1,-1] # 1 indeksli satırın sondan 1.elemanı"
      ],
      "execution_count": 100,
      "outputs": [
        {
          "output_type": "execute_result",
          "data": {
            "text/plain": [
              "6.032361620431503"
            ]
          },
          "metadata": {
            "tags": []
          },
          "execution_count": 100
        }
      ]
    },
    {
      "cell_type": "markdown",
      "metadata": {
        "id": "73cxj8fAhPIb",
        "colab_type": "text"
      },
      "source": [
        "### Boolean Indexing"
      ]
    },
    {
      "cell_type": "code",
      "metadata": {
        "id": "3JPqcSNrhTXD",
        "colab_type": "code",
        "colab": {
          "base_uri": "https://localhost:8080/",
          "height": 50
        },
        "outputId": "c25dc7ca-8799-4ae3-eba5-b1f540ff0c7f"
      },
      "source": [
        "p[p<5] # p'nin 5'ten küçük elemanlarının vektörü"
      ],
      "execution_count": 101,
      "outputs": [
        {
          "output_type": "execute_result",
          "data": {
            "text/plain": [
              "array([0.01222373, 3.04653252, 4.36967264, 4.93112821, 4.80846228,\n",
              "       0.57127202])"
            ]
          },
          "metadata": {
            "tags": []
          },
          "execution_count": 101
        }
      ]
    },
    {
      "cell_type": "markdown",
      "metadata": {
        "id": "YY08fIARhqYq",
        "colab_type": "text"
      },
      "source": [
        "## Dizi Yönlendirme"
      ]
    },
    {
      "cell_type": "markdown",
      "metadata": {
        "id": "kg8lcLQthvjh",
        "colab_type": "text"
      },
      "source": [
        "### Transpoz"
      ]
    },
    {
      "cell_type": "code",
      "metadata": {
        "id": "6QDof-5ih7hk",
        "colab_type": "code",
        "colab": {
          "base_uri": "https://localhost:8080/",
          "height": 67
        },
        "outputId": "141b4017-6592-47f8-c60d-ab68048410fd"
      },
      "source": [
        " pt = np.transpose(p)\n",
        " print(pt)"
      ],
      "execution_count": 102,
      "outputs": [
        {
          "output_type": "stream",
          "text": [
            "[[7.71651561 0.01222373 5.9859997  4.80846228]\n",
            " [5.33793857 3.04653252 4.36967264 6.31379851]\n",
            " [7.60059837 6.03236162 4.93112821 0.57127202]]\n"
          ],
          "name": "stdout"
        }
      ]
    },
    {
      "cell_type": "code",
      "metadata": {
        "id": "vYLYyAJNiKNw",
        "colab_type": "code",
        "colab": {
          "base_uri": "https://localhost:8080/",
          "height": 67
        },
        "outputId": "1f47a259-e268-410f-e759-f5b305eb7d04"
      },
      "source": [
        "p.T"
      ],
      "execution_count": 103,
      "outputs": [
        {
          "output_type": "execute_result",
          "data": {
            "text/plain": [
              "array([[7.71651561, 0.01222373, 5.9859997 , 4.80846228],\n",
              "       [5.33793857, 3.04653252, 4.36967264, 6.31379851],\n",
              "       [7.60059837, 6.03236162, 4.93112821, 0.57127202]])"
            ]
          },
          "metadata": {
            "tags": []
          },
          "execution_count": 103
        }
      ]
    },
    {
      "cell_type": "markdown",
      "metadata": {
        "id": "n6PzBLluiQR0",
        "colab_type": "text"
      },
      "source": [
        "### Dizi Şeklini Değiştirme"
      ]
    },
    {
      "cell_type": "markdown",
      "metadata": {
        "id": "YdzG1jGiiaQQ",
        "colab_type": "text"
      },
      "source": [
        "**1 boyutlu hale getirme (Flatten)**"
      ]
    },
    {
      "cell_type": "code",
      "metadata": {
        "id": "nlKMP5xJijPc",
        "colab_type": "code",
        "colab": {
          "base_uri": "https://localhost:8080/",
          "height": 67
        },
        "outputId": "47ede57d-8521-49e6-bfb2-bb5f989b9d88"
      },
      "source": [
        "p.ravel()"
      ],
      "execution_count": 104,
      "outputs": [
        {
          "output_type": "execute_result",
          "data": {
            "text/plain": [
              "array([7.71651561, 5.33793857, 7.60059837, 0.01222373, 3.04653252,\n",
              "       6.03236162, 5.9859997 , 4.36967264, 4.93112821, 4.80846228,\n",
              "       6.31379851, 0.57127202])"
            ]
          },
          "metadata": {
            "tags": []
          },
          "execution_count": 104
        }
      ]
    },
    {
      "cell_type": "markdown",
      "metadata": {
        "id": "N8UnCIy8itlL",
        "colab_type": "text"
      },
      "source": [
        "**Şeklini değiştirme (asıl diziyi değiştirmez)**"
      ]
    },
    {
      "cell_type": "code",
      "metadata": {
        "id": "qcF-boFci329",
        "colab_type": "code",
        "colab": {
          "base_uri": "https://localhost:8080/",
          "height": 118
        },
        "outputId": "0233f17c-a88d-4dcc-d8af-f70442958b3c"
      },
      "source": [
        "p.reshape(6,2)"
      ],
      "execution_count": 108,
      "outputs": [
        {
          "output_type": "execute_result",
          "data": {
            "text/plain": [
              "array([[7.71651561, 5.33793857],\n",
              "       [7.60059837, 0.01222373],\n",
              "       [3.04653252, 6.03236162],\n",
              "       [5.9859997 , 4.36967264],\n",
              "       [4.93112821, 4.80846228],\n",
              "       [6.31379851, 0.57127202]])"
            ]
          },
          "metadata": {
            "tags": []
          },
          "execution_count": 108
        }
      ]
    },
    {
      "cell_type": "markdown",
      "metadata": {
        "id": "RJfMjZibjjdJ",
        "colab_type": "text"
      },
      "source": [
        "### Eleman Ekleme/Çıkarma"
      ]
    },
    {
      "cell_type": "markdown",
      "metadata": {
        "id": "NvS0nK02j7D6",
        "colab_type": "text"
      },
      "source": [
        "**Şeklini değiştirme (asıl diziyi etkiler)**"
      ]
    },
    {
      "cell_type": "code",
      "metadata": {
        "id": "JKUJbqaMkJIF",
        "colab_type": "code",
        "colab": {
          "base_uri": "https://localhost:8080/",
          "height": 118
        },
        "outputId": "327adf44-cd65-4f8d-a2fc-bb63fc9f584f"
      },
      "source": [
        "p.resize(6,2)\n",
        "print(p)"
      ],
      "execution_count": 111,
      "outputs": [
        {
          "output_type": "stream",
          "text": [
            "[[7.71651561 5.33793857]\n",
            " [7.60059837 0.01222373]\n",
            " [3.04653252 6.03236162]\n",
            " [5.9859997  4.36967264]\n",
            " [4.93112821 4.80846228]\n",
            " [6.31379851 0.57127202]]\n"
          ],
          "name": "stdout"
        }
      ]
    },
    {
      "cell_type": "markdown",
      "metadata": {
        "id": "zm8Q5GCBkYhl",
        "colab_type": "text"
      },
      "source": [
        "**Diziye eleman ekleme**"
      ]
    },
    {
      "cell_type": "code",
      "metadata": {
        "id": "pTPZy99Gkd6q",
        "colab_type": "code",
        "colab": {
          "base_uri": "https://localhost:8080/",
          "height": 101
        },
        "outputId": "71be277a-c0ba-4dbb-9ab2-1f4191cc16c2"
      },
      "source": [
        "np.append(p,p) # 24 elemanlı vektör haline geldi."
      ],
      "execution_count": 118,
      "outputs": [
        {
          "output_type": "execute_result",
          "data": {
            "text/plain": [
              "array([7.71651561, 5.33793857, 7.60059837, 0.01222373, 3.04653252,\n",
              "       6.03236162, 5.9859997 , 4.36967264, 4.93112821, 4.80846228,\n",
              "       6.31379851, 0.57127202, 7.71651561, 5.33793857, 7.60059837,\n",
              "       0.01222373, 3.04653252, 6.03236162, 5.9859997 , 4.36967264,\n",
              "       4.93112821, 4.80846228, 6.31379851, 0.57127202])"
            ]
          },
          "metadata": {
            "tags": []
          },
          "execution_count": 118
        }
      ]
    },
    {
      "cell_type": "code",
      "metadata": {
        "id": "4_Nd5gCEmIt5",
        "colab_type": "code",
        "colab": {
          "base_uri": "https://localhost:8080/",
          "height": 34
        },
        "outputId": "b5f130c9-6c9b-40e8-e86d-4f2415d3d0a4"
      },
      "source": [
        "np.shape(np.append(p,p))  "
      ],
      "execution_count": 119,
      "outputs": [
        {
          "output_type": "execute_result",
          "data": {
            "text/plain": [
              "(24,)"
            ]
          },
          "metadata": {
            "tags": []
          },
          "execution_count": 119
        }
      ]
    },
    {
      "cell_type": "markdown",
      "metadata": {
        "id": "xRF7jsRKkzuP",
        "colab_type": "text"
      },
      "source": [
        "**Belirli bir konuma eleman ekleme**"
      ]
    },
    {
      "cell_type": "code",
      "metadata": {
        "id": "5W21ryznm5fH",
        "colab_type": "code",
        "colab": {
          "base_uri": "https://localhost:8080/",
          "height": 50
        },
        "outputId": "9cb46262-eafc-4f1b-fc57-b88781f86739"
      },
      "source": [
        "r = np.ravel(p)\n",
        "print(r)"
      ],
      "execution_count": 130,
      "outputs": [
        {
          "output_type": "stream",
          "text": [
            "[7.71651561 5.33793857 7.60059837 0.01222373 3.04653252 6.03236162\n",
            " 5.9859997  4.36967264 4.93112821 4.80846228 6.31379851 0.57127202]\n"
          ],
          "name": "stdout"
        }
      ]
    },
    {
      "cell_type": "code",
      "metadata": {
        "id": "n8KuKF-Pnv8l",
        "colab_type": "code",
        "colab": {
          "base_uri": "https://localhost:8080/",
          "height": 67
        },
        "outputId": "ef180b44-8807-41e5-ff70-b2ed5eb6356d"
      },
      "source": [
        "np.insert(r,1,5) # 1 indeksli eleman 5 olacak şekilde eleman ekledik. Asıl diziyi etkilemez."
      ],
      "execution_count": 131,
      "outputs": [
        {
          "output_type": "execute_result",
          "data": {
            "text/plain": [
              "array([7.71651561, 5.        , 5.33793857, 7.60059837, 0.01222373,\n",
              "       3.04653252, 6.03236162, 5.9859997 , 4.36967264, 4.93112821,\n",
              "       4.80846228, 6.31379851, 0.57127202])"
            ]
          },
          "metadata": {
            "tags": []
          },
          "execution_count": 131
        }
      ]
    },
    {
      "cell_type": "markdown",
      "metadata": {
        "id": "QL1MTqOUoC-H",
        "colab_type": "text"
      },
      "source": [
        "**Diziden eleman silme**"
      ]
    },
    {
      "cell_type": "code",
      "metadata": {
        "id": "FO0-a0UOoN9P",
        "colab_type": "code",
        "colab": {
          "base_uri": "https://localhost:8080/",
          "height": 67
        },
        "outputId": "2cbcef6f-fae0-4941-e7d2-9b3102ca368f"
      },
      "source": [
        "np.delete(r,0) # 0 indeksli eleman silindi. Asıl diziyi etkilemez."
      ],
      "execution_count": 132,
      "outputs": [
        {
          "output_type": "execute_result",
          "data": {
            "text/plain": [
              "array([5.33793857, 7.60059837, 0.01222373, 3.04653252, 6.03236162,\n",
              "       5.9859997 , 4.36967264, 4.93112821, 4.80846228, 6.31379851,\n",
              "       0.57127202])"
            ]
          },
          "metadata": {
            "tags": []
          },
          "execution_count": 132
        }
      ]
    },
    {
      "cell_type": "markdown",
      "metadata": {
        "id": "ooAzEetYoo-8",
        "colab_type": "text"
      },
      "source": [
        "### Dizileri Kombinleme"
      ]
    },
    {
      "cell_type": "markdown",
      "metadata": {
        "id": "KVVC6zVmqXEq",
        "colab_type": "text"
      },
      "source": [
        "**Elemanları yuvarlamak**"
      ]
    },
    {
      "cell_type": "code",
      "metadata": {
        "id": "TsUm24NKqSkU",
        "colab_type": "code",
        "colab": {
          "base_uri": "https://localhost:8080/",
          "height": 34
        },
        "outputId": "977c4703-fdfb-4f6f-d87e-ca2eb3679caa"
      },
      "source": [
        "r = np.round(r)\n",
        "print(r)"
      ],
      "execution_count": 143,
      "outputs": [
        {
          "output_type": "stream",
          "text": [
            "[8. 5. 8. 0. 3. 6. 6. 4. 5. 5. 6. 1.]\n"
          ],
          "name": "stdout"
        }
      ]
    },
    {
      "cell_type": "markdown",
      "metadata": {
        "id": "54tDhIP6oulp",
        "colab_type": "text"
      },
      "source": [
        "**Dizileri Bağlamak**"
      ]
    },
    {
      "cell_type": "code",
      "metadata": {
        "id": "jYZ4rK0lo2BS",
        "colab_type": "code",
        "colab": {
          "base_uri": "https://localhost:8080/",
          "height": 50
        },
        "outputId": "22ae3c5e-ca0e-4ac6-e567-13ad81a92da2"
      },
      "source": [
        "np.concatenate((r,r)) # 2 diziyi yan yana ekledi."
      ],
      "execution_count": 144,
      "outputs": [
        {
          "output_type": "execute_result",
          "data": {
            "text/plain": [
              "array([8., 5., 8., 0., 3., 6., 6., 4., 5., 5., 6., 1., 8., 5., 8., 0., 3.,\n",
              "       6., 6., 4., 5., 5., 6., 1.])"
            ]
          },
          "metadata": {
            "tags": []
          },
          "execution_count": 144
        }
      ]
    },
    {
      "cell_type": "markdown",
      "metadata": {
        "id": "2_TX3G01pSuH",
        "colab_type": "text"
      },
      "source": [
        "**Dizileri yatay olarak yığma (Satırlar üst üste gelir)**"
      ]
    },
    {
      "cell_type": "code",
      "metadata": {
        "id": "eNtK3zDVpe42",
        "colab_type": "code",
        "colab": {
          "base_uri": "https://localhost:8080/",
          "height": 50
        },
        "outputId": "c0ca3dda-2e75-4fc5-88fd-eadf693a1f84"
      },
      "source": [
        "q = np.vstack((r,r))\n",
        "print(q)"
      ],
      "execution_count": 149,
      "outputs": [
        {
          "output_type": "stream",
          "text": [
            "[[8. 5. 8. 0. 3. 6. 6. 4. 5. 5. 6. 1.]\n",
            " [8. 5. 8. 0. 3. 6. 6. 4. 5. 5. 6. 1.]]\n"
          ],
          "name": "stdout"
        }
      ]
    },
    {
      "cell_type": "markdown",
      "metadata": {
        "id": "R2zyxgJ1qock",
        "colab_type": "text"
      },
      "source": [
        "**Dizileri dikey olarak yığma**"
      ]
    },
    {
      "cell_type": "code",
      "metadata": {
        "id": "LmYAH0b0qsYk",
        "colab_type": "code",
        "colab": {
          "base_uri": "https://localhost:8080/",
          "height": 50
        },
        "outputId": "4d3c9613-952d-4e37-8be4-eb21ed3e8c42"
      },
      "source": [
        "np.hstack((r,r))"
      ],
      "execution_count": 147,
      "outputs": [
        {
          "output_type": "execute_result",
          "data": {
            "text/plain": [
              "array([8., 5., 8., 0., 3., 6., 6., 4., 5., 5., 6., 1., 8., 5., 8., 0., 3.,\n",
              "       6., 6., 4., 5., 5., 6., 1.])"
            ]
          },
          "metadata": {
            "tags": []
          },
          "execution_count": 147
        }
      ]
    },
    {
      "cell_type": "markdown",
      "metadata": {
        "id": "g9IA6bCsrMle",
        "colab_type": "text"
      },
      "source": [
        "### Dizileri Ayırma"
      ]
    },
    {
      "cell_type": "markdown",
      "metadata": {
        "id": "y9DT375grR2C",
        "colab_type": "text"
      },
      "source": [
        "**Dikey olaray belirli bir konumda ayırma**"
      ]
    },
    {
      "cell_type": "code",
      "metadata": {
        "id": "xwXcB4J6rbMy",
        "colab_type": "code",
        "colab": {
          "base_uri": "https://localhost:8080/",
          "height": 84
        },
        "outputId": "4e34cbff-282c-43a1-92cd-38ced93c8447"
      },
      "source": [
        "np.hsplit(r,4) # 4.indeksten itibaren ayırdı."
      ],
      "execution_count": 150,
      "outputs": [
        {
          "output_type": "execute_result",
          "data": {
            "text/plain": [
              "[array([8., 5., 8.]),\n",
              " array([0., 3., 6.]),\n",
              " array([6., 4., 5.]),\n",
              " array([5., 6., 1.])]"
            ]
          },
          "metadata": {
            "tags": []
          },
          "execution_count": 150
        }
      ]
    },
    {
      "cell_type": "markdown",
      "metadata": {
        "id": "pLTjsKSor1uD",
        "colab_type": "text"
      },
      "source": [
        "**Yatay olarak belirli bir konumdan ayırma**"
      ]
    },
    {
      "cell_type": "markdown",
      "metadata": {
        "id": "Fsq3qRQYsYjT",
        "colab_type": "text"
      },
      "source": [
        "En az 2 boyutlu dizilerde yapılabilir. Bunun için yeni dizi oluşturuyorum."
      ]
    },
    {
      "cell_type": "code",
      "metadata": {
        "id": "HYfwjgVOsgOQ",
        "colab_type": "code",
        "colab": {
          "base_uri": "https://localhost:8080/",
          "height": 151
        },
        "outputId": "31a0a9ca-aed2-4b7c-8698-27a3b023e329"
      },
      "source": [
        "q = np.vstack((q,q))\n",
        "print(q)"
      ],
      "execution_count": 157,
      "outputs": [
        {
          "output_type": "stream",
          "text": [
            "[[8. 5. 8. 0. 3. 6. 6. 4. 5. 5. 6. 1.]\n",
            " [8. 5. 8. 0. 3. 6. 6. 4. 5. 5. 6. 1.]\n",
            " [8. 5. 8. 0. 3. 6. 6. 4. 5. 5. 6. 1.]\n",
            " [8. 5. 8. 0. 3. 6. 6. 4. 5. 5. 6. 1.]\n",
            " [8. 5. 8. 0. 3. 6. 6. 4. 5. 5. 6. 1.]\n",
            " [8. 5. 8. 0. 3. 6. 6. 4. 5. 5. 6. 1.]\n",
            " [8. 5. 8. 0. 3. 6. 6. 4. 5. 5. 6. 1.]\n",
            " [8. 5. 8. 0. 3. 6. 6. 4. 5. 5. 6. 1.]]\n"
          ],
          "name": "stdout"
        }
      ]
    },
    {
      "cell_type": "code",
      "metadata": {
        "id": "PUC1lybrr7l8",
        "colab_type": "code",
        "colab": {
          "base_uri": "https://localhost:8080/",
          "height": 151
        },
        "outputId": "9f098030-dc4f-4122-d146-0d9999065282"
      },
      "source": [
        "np.vsplit(q,2)"
      ],
      "execution_count": 160,
      "outputs": [
        {
          "output_type": "execute_result",
          "data": {
            "text/plain": [
              "[array([[8., 5., 8., 0., 3., 6., 6., 4., 5., 5., 6., 1.],\n",
              "        [8., 5., 8., 0., 3., 6., 6., 4., 5., 5., 6., 1.],\n",
              "        [8., 5., 8., 0., 3., 6., 6., 4., 5., 5., 6., 1.],\n",
              "        [8., 5., 8., 0., 3., 6., 6., 4., 5., 5., 6., 1.]]),\n",
              " array([[8., 5., 8., 0., 3., 6., 6., 4., 5., 5., 6., 1.],\n",
              "        [8., 5., 8., 0., 3., 6., 6., 4., 5., 5., 6., 1.],\n",
              "        [8., 5., 8., 0., 3., 6., 6., 4., 5., 5., 6., 1.],\n",
              "        [8., 5., 8., 0., 3., 6., 6., 4., 5., 5., 6., 1.]])]"
            ]
          },
          "metadata": {
            "tags": []
          },
          "execution_count": 160
        }
      ]
    }
  ]
}